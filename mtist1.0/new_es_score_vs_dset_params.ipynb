{
 "cells": [
  {
   "cell_type": "code",
   "execution_count": 1,
   "id": "903510a6-c427-4d68-a34c-178c78dca3e7",
   "metadata": {
    "execution": {
     "iopub.execute_input": "2023-03-29T03:20:30.150847Z",
     "iopub.status.busy": "2023-03-29T03:20:30.150581Z",
     "iopub.status.idle": "2023-03-29T03:20:31.482380Z",
     "shell.execute_reply": "2023-03-29T03:20:31.481780Z",
     "shell.execute_reply.started": "2023-03-29T03:20:30.150797Z"
    }
   },
   "outputs": [],
   "source": [
    "import numpy as np\n",
    "import matplotlib.pyplot as plt\n",
    "import pandas as pd\n",
    "import os\n",
    "import re\n",
    "import sklearn.linear_model as lm\n",
    "import sklearn.ensemble as ens\n",
    "import sklearn.neural_network as nn"
   ]
  },
  {
   "cell_type": "code",
   "execution_count": 2,
   "id": "1ca0bb8b-7838-4fab-81eb-de4ffd46ffde",
   "metadata": {
    "execution": {
     "iopub.execute_input": "2023-03-29T03:20:31.483465Z",
     "iopub.status.busy": "2023-03-29T03:20:31.483237Z",
     "iopub.status.idle": "2023-03-29T03:20:31.487004Z",
     "shell.execute_reply": "2023-03-29T03:20:31.486391Z",
     "shell.execute_reply.started": "2023-03-29T03:20:31.483450Z"
    }
   },
   "outputs": [],
   "source": [
    "def natural_sort(l):\n",
    "    def convert(text): return int(text) if text.isdigit() else text.lower()\n",
    "\n",
    "    def alphanum_key(key): return [convert(c)\n",
    "                                   for c in re.split('([0-9]+)', key)]\n",
    "    return sorted(l, key=alphanum_key)"
   ]
  },
  {
   "cell_type": "code",
   "execution_count": 178,
   "id": "4d674914-da20-4e39-ba15-81ddc1f0ef64",
   "metadata": {
    "execution": {
     "iopub.execute_input": "2023-03-29T03:48:54.738210Z",
     "iopub.status.busy": "2023-03-29T03:48:54.737978Z",
     "iopub.status.idle": "2023-03-29T03:48:54.749168Z",
     "shell.execute_reply": "2023-03-29T03:48:54.748593Z",
     "shell.execute_reply.started": "2023-03-29T03:48:54.738194Z"
    },
    "tags": []
   },
   "outputs": [],
   "source": [
    "dataset_path = \"mtist_datasets\"\n",
    "es_score_path = \"mtist_datasets/output_geom/inference_result_infer_from_did_elasticnet_cv_geom_mean\"\n",
    "n_dset = len([i for i in os.listdir(es_score_path) if i.split(\"_\")[0]==\"inferred\"])\n",
    "\n",
    "dataset_files = [i for i in os.listdir(dataset_path) if i.split(\"_\")[0]==\"dataset\" and int(re.findall(\"_([0-9]+).csv\", i)[0]) < n_dset]\n",
    "dataset_files = natural_sort(dataset_files)"
   ]
  },
  {
   "cell_type": "code",
   "execution_count": 179,
   "id": "edac2d05-17fa-4961-84ea-93cd05725ef2",
   "metadata": {
    "execution": {
     "iopub.execute_input": "2023-03-29T03:48:55.225289Z",
     "iopub.status.busy": "2023-03-29T03:48:55.224815Z",
     "iopub.status.idle": "2023-03-29T03:48:55.242047Z",
     "shell.execute_reply": "2023-03-29T03:48:55.241387Z",
     "shell.execute_reply.started": "2023-03-29T03:48:55.225270Z"
    },
    "tags": []
   },
   "outputs": [],
   "source": [
    "es_scores = pd.read_csv(f\"{es_score_path}/es_scores.csv\", index_col=0)\n",
    "new_es_scores = pd.read_csv(f\"{es_score_path}/new_es_scores.csv\", index_col=0)"
   ]
  },
  {
   "cell_type": "code",
   "execution_count": 246,
   "id": "5030866f-fdd0-40b6-96d7-a174c647960b",
   "metadata": {
    "execution": {
     "iopub.execute_input": "2023-03-29T04:12:41.307089Z",
     "iopub.status.busy": "2023-03-29T04:12:41.306859Z",
     "iopub.status.idle": "2023-03-29T04:12:41.311871Z",
     "shell.execute_reply": "2023-03-29T04:12:41.311445Z",
     "shell.execute_reply.started": "2023-03-29T04:12:41.307073Z"
    },
    "tags": []
   },
   "outputs": [
    {
     "data": {
      "text/plain": [
       "1.2462857142857147"
      ]
     },
     "execution_count": 246,
     "metadata": {},
     "output_type": "execute_result"
    }
   ],
   "source": [
    "np.diff(df[\"time\"])[np.diff(df[\"time\"])>=0].mean()"
   ]
  },
  {
   "cell_type": "code",
   "execution_count": 304,
   "id": "fc6b7f75-72a2-4180-bbfc-f600968fe70e",
   "metadata": {
    "execution": {
     "iopub.execute_input": "2023-03-29T04:33:52.007313Z",
     "iopub.status.busy": "2023-03-29T04:33:52.007156Z",
     "iopub.status.idle": "2023-03-29T04:33:52.022097Z",
     "shell.execute_reply": "2023-03-29T04:33:52.021413Z",
     "shell.execute_reply.started": "2023-03-29T04:33:52.007298Z"
    },
    "tags": []
   },
   "outputs": [
    {
     "data": {
      "text/html": [
       "<div>\n",
       "<style scoped>\n",
       "    .dataframe tbody tr th:only-of-type {\n",
       "        vertical-align: middle;\n",
       "    }\n",
       "\n",
       "    .dataframe tbody tr th {\n",
       "        vertical-align: top;\n",
       "    }\n",
       "\n",
       "    .dataframe thead th {\n",
       "        text-align: right;\n",
       "    }\n",
       "</style>\n",
       "<table border=\"1\" class=\"dataframe\">\n",
       "  <thead>\n",
       "    <tr style=\"text-align: right;\">\n",
       "      <th></th>\n",
       "      <th>time</th>\n",
       "      <th>species_0</th>\n",
       "      <th>species_1</th>\n",
       "      <th>species_2</th>\n",
       "      <th>ground_truth</th>\n",
       "      <th>timeseries_id</th>\n",
       "      <th>noise</th>\n",
       "      <th>n_species</th>\n",
       "      <th>did</th>\n",
       "      <th>seq_depth</th>\n",
       "      <th>n_timeseries</th>\n",
       "      <th>n_timepoints</th>\n",
       "      <th>sampling_scheme</th>\n",
       "      <th>dt</th>\n",
       "    </tr>\n",
       "  </thead>\n",
       "  <tbody>\n",
       "    <tr>\n",
       "      <th>0</th>\n",
       "      <td>6.157576</td>\n",
       "      <td>3.659421</td>\n",
       "      <td>0.000000</td>\n",
       "      <td>0.147317</td>\n",
       "      <td>3_sp_gt_3</td>\n",
       "      <td>36656</td>\n",
       "      <td>0.1</td>\n",
       "      <td>3</td>\n",
       "      <td>1133</td>\n",
       "      <td>low</td>\n",
       "      <td>50</td>\n",
       "      <td>15</td>\n",
       "      <td>seq</td>\n",
       "      <td>1.246286</td>\n",
       "    </tr>\n",
       "    <tr>\n",
       "      <th>1</th>\n",
       "      <td>7.369697</td>\n",
       "      <td>3.715321</td>\n",
       "      <td>0.000000</td>\n",
       "      <td>0.417791</td>\n",
       "      <td>3_sp_gt_3</td>\n",
       "      <td>36656</td>\n",
       "      <td>0.1</td>\n",
       "      <td>3</td>\n",
       "      <td>1133</td>\n",
       "      <td>low</td>\n",
       "      <td>50</td>\n",
       "      <td>15</td>\n",
       "      <td>seq</td>\n",
       "      <td>1.246286</td>\n",
       "    </tr>\n",
       "    <tr>\n",
       "      <th>2</th>\n",
       "      <td>8.581818</td>\n",
       "      <td>2.229118</td>\n",
       "      <td>0.000000</td>\n",
       "      <td>0.951733</td>\n",
       "      <td>3_sp_gt_3</td>\n",
       "      <td>36656</td>\n",
       "      <td>0.1</td>\n",
       "      <td>3</td>\n",
       "      <td>1133</td>\n",
       "      <td>low</td>\n",
       "      <td>50</td>\n",
       "      <td>15</td>\n",
       "      <td>seq</td>\n",
       "      <td>1.246286</td>\n",
       "    </tr>\n",
       "    <tr>\n",
       "      <th>3</th>\n",
       "      <td>10.096970</td>\n",
       "      <td>2.704753</td>\n",
       "      <td>0.000000</td>\n",
       "      <td>0.992052</td>\n",
       "      <td>3_sp_gt_3</td>\n",
       "      <td>36656</td>\n",
       "      <td>0.1</td>\n",
       "      <td>3</td>\n",
       "      <td>1133</td>\n",
       "      <td>low</td>\n",
       "      <td>50</td>\n",
       "      <td>15</td>\n",
       "      <td>seq</td>\n",
       "      <td>1.246286</td>\n",
       "    </tr>\n",
       "    <tr>\n",
       "      <th>4</th>\n",
       "      <td>11.309091</td>\n",
       "      <td>2.982814</td>\n",
       "      <td>0.000000</td>\n",
       "      <td>1.117757</td>\n",
       "      <td>3_sp_gt_3</td>\n",
       "      <td>36656</td>\n",
       "      <td>0.1</td>\n",
       "      <td>3</td>\n",
       "      <td>1133</td>\n",
       "      <td>low</td>\n",
       "      <td>50</td>\n",
       "      <td>15</td>\n",
       "      <td>seq</td>\n",
       "      <td>1.246286</td>\n",
       "    </tr>\n",
       "    <tr>\n",
       "      <th>...</th>\n",
       "      <td>...</td>\n",
       "      <td>...</td>\n",
       "      <td>...</td>\n",
       "      <td>...</td>\n",
       "      <td>...</td>\n",
       "      <td>...</td>\n",
       "      <td>...</td>\n",
       "      <td>...</td>\n",
       "      <td>...</td>\n",
       "      <td>...</td>\n",
       "      <td>...</td>\n",
       "      <td>...</td>\n",
       "      <td>...</td>\n",
       "      <td>...</td>\n",
       "    </tr>\n",
       "    <tr>\n",
       "      <th>745</th>\n",
       "      <td>12.521212</td>\n",
       "      <td>0.784149</td>\n",
       "      <td>1.327693</td>\n",
       "      <td>0.880136</td>\n",
       "      <td>3_sp_gt_3</td>\n",
       "      <td>12733201</td>\n",
       "      <td>0.1</td>\n",
       "      <td>3</td>\n",
       "      <td>1133</td>\n",
       "      <td>low</td>\n",
       "      <td>50</td>\n",
       "      <td>15</td>\n",
       "      <td>seq</td>\n",
       "      <td>1.246286</td>\n",
       "    </tr>\n",
       "    <tr>\n",
       "      <th>746</th>\n",
       "      <td>13.733333</td>\n",
       "      <td>0.855959</td>\n",
       "      <td>0.717715</td>\n",
       "      <td>0.660101</td>\n",
       "      <td>3_sp_gt_3</td>\n",
       "      <td>12733201</td>\n",
       "      <td>0.1</td>\n",
       "      <td>3</td>\n",
       "      <td>1133</td>\n",
       "      <td>low</td>\n",
       "      <td>50</td>\n",
       "      <td>15</td>\n",
       "      <td>seq</td>\n",
       "      <td>1.246286</td>\n",
       "    </tr>\n",
       "    <tr>\n",
       "      <th>747</th>\n",
       "      <td>14.945455</td>\n",
       "      <td>1.520639</td>\n",
       "      <td>0.607437</td>\n",
       "      <td>0.682633</td>\n",
       "      <td>3_sp_gt_3</td>\n",
       "      <td>12733201</td>\n",
       "      <td>0.1</td>\n",
       "      <td>3</td>\n",
       "      <td>1133</td>\n",
       "      <td>low</td>\n",
       "      <td>50</td>\n",
       "      <td>15</td>\n",
       "      <td>seq</td>\n",
       "      <td>1.246286</td>\n",
       "    </tr>\n",
       "    <tr>\n",
       "      <th>748</th>\n",
       "      <td>16.157576</td>\n",
       "      <td>1.074590</td>\n",
       "      <td>1.233801</td>\n",
       "      <td>1.215241</td>\n",
       "      <td>3_sp_gt_3</td>\n",
       "      <td>12733201</td>\n",
       "      <td>0.1</td>\n",
       "      <td>3</td>\n",
       "      <td>1133</td>\n",
       "      <td>low</td>\n",
       "      <td>50</td>\n",
       "      <td>15</td>\n",
       "      <td>seq</td>\n",
       "      <td>1.246286</td>\n",
       "    </tr>\n",
       "    <tr>\n",
       "      <th>749</th>\n",
       "      <td>17.369697</td>\n",
       "      <td>0.873143</td>\n",
       "      <td>1.164672</td>\n",
       "      <td>1.194663</td>\n",
       "      <td>3_sp_gt_3</td>\n",
       "      <td>12733201</td>\n",
       "      <td>0.1</td>\n",
       "      <td>3</td>\n",
       "      <td>1133</td>\n",
       "      <td>low</td>\n",
       "      <td>50</td>\n",
       "      <td>15</td>\n",
       "      <td>seq</td>\n",
       "      <td>1.246286</td>\n",
       "    </tr>\n",
       "  </tbody>\n",
       "</table>\n",
       "<p>750 rows × 14 columns</p>\n",
       "</div>"
      ],
      "text/plain": [
       "          time  species_0  species_1  species_2 ground_truth  timeseries_id  \\\n",
       "0     6.157576   3.659421   0.000000   0.147317    3_sp_gt_3          36656   \n",
       "1     7.369697   3.715321   0.000000   0.417791    3_sp_gt_3          36656   \n",
       "2     8.581818   2.229118   0.000000   0.951733    3_sp_gt_3          36656   \n",
       "3    10.096970   2.704753   0.000000   0.992052    3_sp_gt_3          36656   \n",
       "4    11.309091   2.982814   0.000000   1.117757    3_sp_gt_3          36656   \n",
       "..         ...        ...        ...        ...          ...            ...   \n",
       "745  12.521212   0.784149   1.327693   0.880136    3_sp_gt_3       12733201   \n",
       "746  13.733333   0.855959   0.717715   0.660101    3_sp_gt_3       12733201   \n",
       "747  14.945455   1.520639   0.607437   0.682633    3_sp_gt_3       12733201   \n",
       "748  16.157576   1.074590   1.233801   1.215241    3_sp_gt_3       12733201   \n",
       "749  17.369697   0.873143   1.164672   1.194663    3_sp_gt_3       12733201   \n",
       "\n",
       "     noise  n_species   did seq_depth  n_timeseries  n_timepoints  \\\n",
       "0      0.1          3  1133       low            50            15   \n",
       "1      0.1          3  1133       low            50            15   \n",
       "2      0.1          3  1133       low            50            15   \n",
       "3      0.1          3  1133       low            50            15   \n",
       "4      0.1          3  1133       low            50            15   \n",
       "..     ...        ...   ...       ...           ...           ...   \n",
       "745    0.1          3  1133       low            50            15   \n",
       "746    0.1          3  1133       low            50            15   \n",
       "747    0.1          3  1133       low            50            15   \n",
       "748    0.1          3  1133       low            50            15   \n",
       "749    0.1          3  1133       low            50            15   \n",
       "\n",
       "    sampling_scheme        dt  \n",
       "0               seq  1.246286  \n",
       "1               seq  1.246286  \n",
       "2               seq  1.246286  \n",
       "3               seq  1.246286  \n",
       "4               seq  1.246286  \n",
       "..              ...       ...  \n",
       "745             seq  1.246286  \n",
       "746             seq  1.246286  \n",
       "747             seq  1.246286  \n",
       "748             seq  1.246286  \n",
       "749             seq  1.246286  \n",
       "\n",
       "[750 rows x 14 columns]"
      ]
     },
     "execution_count": 304,
     "metadata": {},
     "output_type": "execute_result"
    }
   ],
   "source": [
    "df"
   ]
  },
  {
   "cell_type": "code",
   "execution_count": 296,
   "id": "7d78c979-4262-4e2f-b6c4-e53a43c5e3ff",
   "metadata": {
    "execution": {
     "iopub.execute_input": "2023-03-29T04:32:06.313643Z",
     "iopub.status.busy": "2023-03-29T04:32:06.313379Z",
     "iopub.status.idle": "2023-03-29T04:32:06.317532Z",
     "shell.execute_reply": "2023-03-29T04:32:06.316935Z",
     "shell.execute_reply.started": "2023-03-29T04:32:06.313602Z"
    },
    "tags": []
   },
   "outputs": [
    {
     "data": {
      "text/plain": [
       "'dataset_1133.csv'"
      ]
     },
     "execution_count": 296,
     "metadata": {},
     "output_type": "execute_result"
    }
   ],
   "source": [
    "dataset_files[-1]"
   ]
  },
  {
   "cell_type": "code",
   "execution_count": 305,
   "id": "14ef2c77-3173-45c3-90e7-9b255fa21110",
   "metadata": {
    "execution": {
     "iopub.execute_input": "2023-03-29T04:34:12.047095Z",
     "iopub.status.busy": "2023-03-29T04:34:12.046639Z",
     "iopub.status.idle": "2023-03-29T04:34:12.050911Z",
     "shell.execute_reply": "2023-03-29T04:34:12.050127Z",
     "shell.execute_reply.started": "2023-03-29T04:34:12.047073Z"
    },
    "tags": []
   },
   "outputs": [
    {
     "data": {
      "text/plain": [
       "'dataset_1133.csv'"
      ]
     },
     "execution_count": 305,
     "metadata": {},
     "output_type": "execute_result"
    }
   ],
   "source": [
    "dset"
   ]
  },
  {
   "cell_type": "code",
   "execution_count": 307,
   "id": "b8485b57-9673-476c-a057-e8f24e46a40e",
   "metadata": {
    "execution": {
     "iopub.execute_input": "2023-03-29T04:35:51.374903Z",
     "iopub.status.busy": "2023-03-29T04:35:51.374698Z",
     "iopub.status.idle": "2023-03-29T04:35:51.379297Z",
     "shell.execute_reply": "2023-03-29T04:35:51.378416Z",
     "shell.execute_reply.started": "2023-03-29T04:35:51.374887Z"
    },
    "tags": []
   },
   "outputs": [
    {
     "data": {
      "text/plain": [
       "'seq'"
      ]
     },
     "execution_count": 307,
     "metadata": {},
     "output_type": "execute_result"
    }
   ],
   "source": [
    "df[\"sampling_scheme\"][0]"
   ]
  },
  {
   "cell_type": "code",
   "execution_count": 310,
   "id": "c93f9f82-add6-48e9-aea1-153836d08cc4",
   "metadata": {
    "execution": {
     "iopub.execute_input": "2023-03-29T04:36:14.512467Z",
     "iopub.status.busy": "2023-03-29T04:36:14.512198Z",
     "iopub.status.idle": "2023-03-29T04:36:18.752117Z",
     "shell.execute_reply": "2023-03-29T04:36:18.751411Z",
     "shell.execute_reply.started": "2023-03-29T04:36:14.512443Z"
    },
    "tags": []
   },
   "outputs": [],
   "source": [
    "dset_param_cols = [\"n_species\", \"n_timeseries\", \"n_timepoints\", \"noise\", \"sampling_scheme\", \"dt\"]\n",
    "dset_param_vals = []\n",
    "\n",
    "for dset in dataset_files:\n",
    "    df = pd.read_csv(f\"{dataset_path}/{dset}\", index_col=0)\n",
    "    df[\"sampling_scheme\"] = len(df[\"sampling_scheme\"][0])\n",
    "    df[\"dt\"] = np.diff(df[\"time\"])[np.diff(df[\"time\"])>=0].mean()\n",
    "    dset_param_vals.append(np.unique(df[dset_param_cols], axis=0))"
   ]
  },
  {
   "cell_type": "code",
   "execution_count": 311,
   "id": "7dd5ba07-d58f-4599-8ffb-e8d16890e97b",
   "metadata": {
    "execution": {
     "iopub.execute_input": "2023-03-29T04:36:18.753414Z",
     "iopub.status.busy": "2023-03-29T04:36:18.753197Z",
     "iopub.status.idle": "2023-03-29T04:36:18.771352Z",
     "shell.execute_reply": "2023-03-29T04:36:18.770086Z",
     "shell.execute_reply.started": "2023-03-29T04:36:18.753390Z"
    },
    "tags": []
   },
   "outputs": [
    {
     "data": {
      "text/html": [
       "<div>\n",
       "<style scoped>\n",
       "    .dataframe tbody tr th:only-of-type {\n",
       "        vertical-align: middle;\n",
       "    }\n",
       "\n",
       "    .dataframe tbody tr th {\n",
       "        vertical-align: top;\n",
       "    }\n",
       "\n",
       "    .dataframe thead th {\n",
       "        text-align: right;\n",
       "    }\n",
       "</style>\n",
       "<table border=\"1\" class=\"dataframe\">\n",
       "  <thead>\n",
       "    <tr style=\"text-align: right;\">\n",
       "      <th></th>\n",
       "      <th>n_species</th>\n",
       "      <th>n_timeseries</th>\n",
       "      <th>n_timepoints</th>\n",
       "      <th>noise</th>\n",
       "      <th>sampling_scheme</th>\n",
       "      <th>dt</th>\n",
       "      <th>es_score_raw</th>\n",
       "      <th>es_score_floored</th>\n",
       "      <th>new_es_score_raw</th>\n",
       "      <th>new_es_score_floored</th>\n",
       "    </tr>\n",
       "  </thead>\n",
       "  <tbody>\n",
       "    <tr>\n",
       "      <th>0</th>\n",
       "      <td>100.0</td>\n",
       "      <td>5.0</td>\n",
       "      <td>5.0</td>\n",
       "      <td>0.01</td>\n",
       "      <td>4.0</td>\n",
       "      <td>7.524242</td>\n",
       "      <td>0.510356</td>\n",
       "      <td>0.505299</td>\n",
       "      <td>0.667600</td>\n",
       "      <td>0.704200</td>\n",
       "    </tr>\n",
       "    <tr>\n",
       "      <th>1</th>\n",
       "      <td>100.0</td>\n",
       "      <td>5.0</td>\n",
       "      <td>10.0</td>\n",
       "      <td>0.01</td>\n",
       "      <td>4.0</td>\n",
       "      <td>3.344108</td>\n",
       "      <td>0.514451</td>\n",
       "      <td>0.509875</td>\n",
       "      <td>0.697700</td>\n",
       "      <td>0.756400</td>\n",
       "    </tr>\n",
       "    <tr>\n",
       "      <th>2</th>\n",
       "      <td>100.0</td>\n",
       "      <td>5.0</td>\n",
       "      <td>15.0</td>\n",
       "      <td>0.01</td>\n",
       "      <td>4.0</td>\n",
       "      <td>2.149784</td>\n",
       "      <td>0.512042</td>\n",
       "      <td>0.513487</td>\n",
       "      <td>0.695200</td>\n",
       "      <td>0.788000</td>\n",
       "    </tr>\n",
       "    <tr>\n",
       "      <th>3</th>\n",
       "      <td>100.0</td>\n",
       "      <td>5.0</td>\n",
       "      <td>5.0</td>\n",
       "      <td>0.01</td>\n",
       "      <td>6.0</td>\n",
       "      <td>4.939394</td>\n",
       "      <td>0.507225</td>\n",
       "      <td>0.501445</td>\n",
       "      <td>0.668700</td>\n",
       "      <td>0.695800</td>\n",
       "    </tr>\n",
       "    <tr>\n",
       "      <th>4</th>\n",
       "      <td>100.0</td>\n",
       "      <td>5.0</td>\n",
       "      <td>10.0</td>\n",
       "      <td>0.01</td>\n",
       "      <td>6.0</td>\n",
       "      <td>3.021145</td>\n",
       "      <td>0.506744</td>\n",
       "      <td>0.502890</td>\n",
       "      <td>0.672300</td>\n",
       "      <td>0.718400</td>\n",
       "    </tr>\n",
       "    <tr>\n",
       "      <th>...</th>\n",
       "      <td>...</td>\n",
       "      <td>...</td>\n",
       "      <td>...</td>\n",
       "      <td>...</td>\n",
       "      <td>...</td>\n",
       "      <td>...</td>\n",
       "      <td>...</td>\n",
       "      <td>...</td>\n",
       "      <td>...</td>\n",
       "      <td>...</td>\n",
       "    </tr>\n",
       "    <tr>\n",
       "      <th>1129</th>\n",
       "      <td>3.0</td>\n",
       "      <td>50.0</td>\n",
       "      <td>10.0</td>\n",
       "      <td>0.10</td>\n",
       "      <td>6.0</td>\n",
       "      <td>2.975434</td>\n",
       "      <td>0.888889</td>\n",
       "      <td>0.833333</td>\n",
       "      <td>0.888889</td>\n",
       "      <td>0.666667</td>\n",
       "    </tr>\n",
       "    <tr>\n",
       "      <th>1130</th>\n",
       "      <td>3.0</td>\n",
       "      <td>50.0</td>\n",
       "      <td>15.0</td>\n",
       "      <td>0.10</td>\n",
       "      <td>6.0</td>\n",
       "      <td>2.040952</td>\n",
       "      <td>1.000000</td>\n",
       "      <td>1.000000</td>\n",
       "      <td>1.000000</td>\n",
       "      <td>1.000000</td>\n",
       "    </tr>\n",
       "    <tr>\n",
       "      <th>1131</th>\n",
       "      <td>3.0</td>\n",
       "      <td>50.0</td>\n",
       "      <td>5.0</td>\n",
       "      <td>0.10</td>\n",
       "      <td>3.0</td>\n",
       "      <td>1.305245</td>\n",
       "      <td>1.000000</td>\n",
       "      <td>1.000000</td>\n",
       "      <td>1.000000</td>\n",
       "      <td>1.000000</td>\n",
       "    </tr>\n",
       "    <tr>\n",
       "      <th>1132</th>\n",
       "      <td>3.0</td>\n",
       "      <td>50.0</td>\n",
       "      <td>10.0</td>\n",
       "      <td>0.10</td>\n",
       "      <td>3.0</td>\n",
       "      <td>1.248350</td>\n",
       "      <td>1.000000</td>\n",
       "      <td>1.000000</td>\n",
       "      <td>1.000000</td>\n",
       "      <td>1.000000</td>\n",
       "    </tr>\n",
       "    <tr>\n",
       "      <th>1133</th>\n",
       "      <td>3.0</td>\n",
       "      <td>50.0</td>\n",
       "      <td>15.0</td>\n",
       "      <td>0.10</td>\n",
       "      <td>3.0</td>\n",
       "      <td>1.246286</td>\n",
       "      <td>1.000000</td>\n",
       "      <td>1.000000</td>\n",
       "      <td>1.000000</td>\n",
       "      <td>1.000000</td>\n",
       "    </tr>\n",
       "  </tbody>\n",
       "</table>\n",
       "<p>1134 rows × 10 columns</p>\n",
       "</div>"
      ],
      "text/plain": [
       "      n_species  n_timeseries  n_timepoints  noise  sampling_scheme        dt  \\\n",
       "0         100.0           5.0           5.0   0.01              4.0  7.524242   \n",
       "1         100.0           5.0          10.0   0.01              4.0  3.344108   \n",
       "2         100.0           5.0          15.0   0.01              4.0  2.149784   \n",
       "3         100.0           5.0           5.0   0.01              6.0  4.939394   \n",
       "4         100.0           5.0          10.0   0.01              6.0  3.021145   \n",
       "...         ...           ...           ...    ...              ...       ...   \n",
       "1129        3.0          50.0          10.0   0.10              6.0  2.975434   \n",
       "1130        3.0          50.0          15.0   0.10              6.0  2.040952   \n",
       "1131        3.0          50.0           5.0   0.10              3.0  1.305245   \n",
       "1132        3.0          50.0          10.0   0.10              3.0  1.248350   \n",
       "1133        3.0          50.0          15.0   0.10              3.0  1.246286   \n",
       "\n",
       "      es_score_raw  es_score_floored  new_es_score_raw  new_es_score_floored  \n",
       "0         0.510356          0.505299          0.667600              0.704200  \n",
       "1         0.514451          0.509875          0.697700              0.756400  \n",
       "2         0.512042          0.513487          0.695200              0.788000  \n",
       "3         0.507225          0.501445          0.668700              0.695800  \n",
       "4         0.506744          0.502890          0.672300              0.718400  \n",
       "...            ...               ...               ...                   ...  \n",
       "1129      0.888889          0.833333          0.888889              0.666667  \n",
       "1130      1.000000          1.000000          1.000000              1.000000  \n",
       "1131      1.000000          1.000000          1.000000              1.000000  \n",
       "1132      1.000000          1.000000          1.000000              1.000000  \n",
       "1133      1.000000          1.000000          1.000000              1.000000  \n",
       "\n",
       "[1134 rows x 10 columns]"
      ]
     },
     "execution_count": 311,
     "metadata": {},
     "output_type": "execute_result"
    }
   ],
   "source": [
    "df = pd.DataFrame(np.concatenate(dset_param_vals), columns=dset_param_cols)\n",
    "df[[\"es_score_raw\", \"es_score_floored\"]] = es_scores\n",
    "df[[\"new_es_score_raw\", \"new_es_score_floored\"]] = new_es_scores\n",
    "\n",
    "df"
   ]
  },
  {
   "cell_type": "code",
   "execution_count": 314,
   "id": "3b8c04ae-49d3-4c3f-bdee-31f040cde1ac",
   "metadata": {
    "execution": {
     "iopub.execute_input": "2023-03-29T04:36:43.493094Z",
     "iopub.status.busy": "2023-03-29T04:36:43.492902Z",
     "iopub.status.idle": "2023-03-29T04:36:43.500245Z",
     "shell.execute_reply": "2023-03-29T04:36:43.499592Z",
     "shell.execute_reply.started": "2023-03-29T04:36:43.493079Z"
    },
    "tags": []
   },
   "outputs": [
    {
     "data": {
      "text/plain": [
       "0.40182819376521994"
      ]
     },
     "execution_count": 314,
     "metadata": {},
     "output_type": "execute_result"
    }
   ],
   "source": [
    "n_sp = 10.\n",
    "df_n_sp = df[df.n_species==n_sp]\n",
    "feat = df_n_sp.iloc[:,1:4].values\n",
    "label = df_n_sp[\"es_score_raw\"].values\n",
    "new_label = df_n_sp[\"new_es_score_raw\"].values\n",
    "\n",
    "lr = lm.LinearRegression()\n",
    "lr.fit(feat, label)\n",
    "lr.score(feat, label)"
   ]
  },
  {
   "cell_type": "code",
   "execution_count": 315,
   "id": "e8251507-b11a-4d0c-ba2e-50adbd0ac03c",
   "metadata": {
    "execution": {
     "iopub.execute_input": "2023-03-29T04:36:44.045754Z",
     "iopub.status.busy": "2023-03-29T04:36:44.045514Z",
     "iopub.status.idle": "2023-03-29T04:36:44.050841Z",
     "shell.execute_reply": "2023-03-29T04:36:44.050122Z",
     "shell.execute_reply.started": "2023-03-29T04:36:44.045737Z"
    },
    "tags": []
   },
   "outputs": [
    {
     "data": {
      "text/plain": [
       "array([4., 6., 3.])"
      ]
     },
     "execution_count": 315,
     "metadata": {},
     "output_type": "execute_result"
    }
   ],
   "source": [
    "df[\"sampling_scheme\"].unique()"
   ]
  },
  {
   "cell_type": "code",
   "execution_count": 316,
   "id": "2865b8aa-c153-4603-ae0d-0c7f45a10577",
   "metadata": {
    "execution": {
     "iopub.execute_input": "2023-03-29T04:36:44.828590Z",
     "iopub.status.busy": "2023-03-29T04:36:44.828384Z",
     "iopub.status.idle": "2023-03-29T04:36:44.833196Z",
     "shell.execute_reply": "2023-03-29T04:36:44.832517Z",
     "shell.execute_reply.started": "2023-03-29T04:36:44.828574Z"
    },
    "tags": []
   },
   "outputs": [
    {
     "data": {
      "text/plain": [
       "(0.5417011335825285, array([ 0.00297348,  0.01470715, -0.24209107]))"
      ]
     },
     "execution_count": 316,
     "metadata": {},
     "output_type": "execute_result"
    }
   ],
   "source": [
    "lr.intercept_, lr.coef_"
   ]
  },
  {
   "cell_type": "code",
   "execution_count": 317,
   "id": "7d470d72-8e13-495a-884b-ede5906aeecd",
   "metadata": {
    "execution": {
     "iopub.execute_input": "2023-03-29T04:36:45.181635Z",
     "iopub.status.busy": "2023-03-29T04:36:45.181323Z",
     "iopub.status.idle": "2023-03-29T04:36:45.355768Z",
     "shell.execute_reply": "2023-03-29T04:36:45.354906Z",
     "shell.execute_reply.started": "2023-03-29T04:36:45.181603Z"
    },
    "tags": []
   },
   "outputs": [
    {
     "data": {
      "image/png": "[encoded data removed]",
      "text/plain": [
       "<Figure size 640x480 with 1 Axes>"
      ]
     },
     "metadata": {},
     "output_type": "display_data"
    }
   ],
   "source": [
    "for i, n_ts in enumerate(df[\"n_timeseries\"].unique()):\n",
    "    for j, n_tp in enumerate(df[\"n_timepoints\"].unique()):\n",
    "        plt.scatter(n_ts, df_n_sp[(df_n_sp[[\"n_timepoints\", \"n_timeseries\"]]==[n_tp,n_ts]).all(1).values][\"es_score_raw\"].values.mean(), c=f\"C{j}\")\n",
    "        \n",
    "plt.ylim(0, 1.1)\n",
    "plt.show()"
   ]
  },
  {
   "cell_type": "code",
   "execution_count": 328,
   "id": "c900b526-a09c-4d5e-ab95-066ad8e7044e",
   "metadata": {
    "execution": {
     "iopub.execute_input": "2023-03-29T04:37:10.568598Z",
     "iopub.status.busy": "2023-03-29T04:37:10.568343Z",
     "iopub.status.idle": "2023-03-29T04:37:10.573062Z",
     "shell.execute_reply": "2023-03-29T04:37:10.572501Z",
     "shell.execute_reply.started": "2023-03-29T04:37:10.568575Z"
    },
    "tags": []
   },
   "outputs": [
    {
     "data": {
      "text/plain": [
       "array([4., 6., 3.])"
      ]
     },
     "execution_count": 328,
     "metadata": {},
     "output_type": "execute_result"
    }
   ],
   "source": [
    "df[\"sampling_scheme\"].unique()"
   ]
  },
  {
   "cell_type": "code",
   "execution_count": 318,
   "id": "de4e47c7-45a9-427f-8a1b-0a0f43f6b497",
   "metadata": {
    "execution": {
     "iopub.execute_input": "2023-03-29T04:36:46.749398Z",
     "iopub.status.busy": "2023-03-29T04:36:46.749080Z",
     "iopub.status.idle": "2023-03-29T04:36:46.896356Z",
     "shell.execute_reply": "2023-03-29T04:36:46.895451Z",
     "shell.execute_reply.started": "2023-03-29T04:36:46.749376Z"
    },
    "tags": []
   },
   "outputs": [
    {
     "data": {
      "image/png": "[encoded data removed]",
      "text/plain": [
       "<Figure size 640x480 with 1 Axes>"
      ]
     },
     "metadata": {},
     "output_type": "display_data"
    }
   ],
   "source": [
    "for i, n_ts in enumerate(df[\"n_timeseries\"].unique()):\n",
    "    for j, n_tp in enumerate(df[\"sampling_scheme\"].unique()):\n",
    "        plt.scatter(n_ts, df_n_sp[(df_n_sp[[\"sampling_scheme\", \"n_timeseries\"]]==[n_tp,n_ts]).all(1).values][\"es_score_raw\"].values.mean(), c=f\"C{j}\")\n",
    "        \n",
    "plt.ylim(0, 1.1)\n",
    "plt.show()"
   ]
  },
  {
   "cell_type": "code",
   "execution_count": 335,
   "id": "d41f8b15-07b1-458b-b861-f3ccc3bb21f3",
   "metadata": {
    "execution": {
     "iopub.execute_input": "2023-03-29T04:41:09.458925Z",
     "iopub.status.busy": "2023-03-29T04:41:09.458673Z",
     "iopub.status.idle": "2023-03-29T04:41:09.760129Z",
     "shell.execute_reply": "2023-03-29T04:41:09.759489Z",
     "shell.execute_reply.started": "2023-03-29T04:41:09.458909Z"
    },
    "tags": []
   },
   "outputs": [
    {
     "data": {
      "image/png": "[encoded data removed]",
      "text/plain": [
       "<Figure size 640x480 with 1 Axes>"
      ]
     },
     "metadata": {},
     "output_type": "display_data"
    }
   ],
   "source": [
    "for i, n_ts in enumerate(df[\"n_timeseries\"].unique()):\n",
    "    for j, n_tp in enumerate(df[df[\"n_timeseries\"]==n_ts][\"dt\"].unique()):\n",
    "        plt.scatter(n_tp, df_n_sp[(df_n_sp[[\"dt\", \"n_timeseries\"]]==[n_tp,n_ts]).all(1).values][\"es_score_raw\"].values.mean(), c=f\"C{i}\")\n",
    "        \n",
    "plt.ylim(0, 1.1)\n",
    "plt.show()"
   ]
  },
  {
   "cell_type": "code",
   "execution_count": 168,
   "id": "c513a09a-ee88-4fd6-ab97-413b81af2196",
   "metadata": {
    "execution": {
     "iopub.execute_input": "2023-03-29T03:46:05.683175Z",
     "iopub.status.busy": "2023-03-29T03:46:05.682874Z",
     "iopub.status.idle": "2023-03-29T03:46:05.688741Z",
     "shell.execute_reply": "2023-03-29T03:46:05.688100Z",
     "shell.execute_reply.started": "2023-03-29T03:46:05.683153Z"
    },
    "tags": []
   },
   "outputs": [
    {
     "data": {
      "text/plain": [
       "-1.4291614215504196"
      ]
     },
     "execution_count": 168,
     "metadata": {},
     "output_type": "execute_result"
    }
   ],
   "source": [
    "lr.score(feat, new_label)"
   ]
  },
  {
   "cell_type": "code",
   "execution_count": 169,
   "id": "ce581d0a-ff22-46c3-83b3-da841f593464",
   "metadata": {
    "execution": {
     "iopub.execute_input": "2023-03-29T03:46:13.191932Z",
     "iopub.status.busy": "2023-03-29T03:46:13.191683Z",
     "iopub.status.idle": "2023-03-29T03:46:13.286455Z",
     "shell.execute_reply": "2023-03-29T03:46:13.285920Z",
     "shell.execute_reply.started": "2023-03-29T03:46:13.191917Z"
    },
    "tags": []
   },
   "outputs": [
    {
     "data": {
      "text/plain": [
       "0.3635680949633646"
      ]
     },
     "execution_count": 169,
     "metadata": {},
     "output_type": "execute_result"
    }
   ],
   "source": [
    "rfr = ens.RandomForestRegressor()\n",
    "rfr.fit(feat, new_label)\n",
    "rfr.score(feat, new_label)"
   ]
  },
  {
   "cell_type": "code",
   "execution_count": 170,
   "id": "fc54730f-845e-44f1-82c0-01ad00ba1c84",
   "metadata": {
    "execution": {
     "iopub.execute_input": "2023-03-29T03:46:19.250412Z",
     "iopub.status.busy": "2023-03-29T03:46:19.250125Z",
     "iopub.status.idle": "2023-03-29T03:46:19.290844Z",
     "shell.execute_reply": "2023-03-29T03:46:19.290150Z",
     "shell.execute_reply.started": "2023-03-29T03:46:19.250391Z"
    },
    "tags": []
   },
   "outputs": [
    {
     "data": {
      "text/plain": [
       "0.3636336144335647"
      ]
     },
     "execution_count": 170,
     "metadata": {},
     "output_type": "execute_result"
    }
   ],
   "source": [
    "gfr = ens.GradientBoostingRegressor()\n",
    "gfr.fit(feat, new_label)\n",
    "gfr.score(feat, new_label)"
   ]
  },
  {
   "cell_type": "code",
   "execution_count": 171,
   "id": "bc088d2e-d201-4c94-9c35-0f90e3923418",
   "metadata": {
    "execution": {
     "iopub.execute_input": "2023-03-29T03:46:24.239609Z",
     "iopub.status.busy": "2023-03-29T03:46:24.239336Z",
     "iopub.status.idle": "2023-03-29T03:46:24.423874Z",
     "shell.execute_reply": "2023-03-29T03:46:24.422960Z",
     "shell.execute_reply.started": "2023-03-29T03:46:24.239588Z"
    },
    "tags": []
   },
   "outputs": [
    {
     "data": {
      "text/plain": [
       "0.3503746980161321"
      ]
     },
     "execution_count": 171,
     "metadata": {},
     "output_type": "execute_result"
    }
   ],
   "source": [
    "nnet = nn.MLPRegressor(activation=\"logistic\")\n",
    "nnet.fit(feat, new_label)\n",
    "nnet.score(feat, new_label)"
   ]
  }
 ],
 "metadata": {
  "kernelspec": {
   "display_name": "Python 3 (ipykernel)",
   "language": "python",
   "name": "python3"
  },
  "language_info": {
   "codemirror_mode": {
    "name": "ipython",
    "version": 3
   },
   "file_extension": ".py",
   "mimetype": "text/x-python",
   "name": "python",
   "nbconvert_exporter": "python",
   "pygments_lexer": "ipython3",
   "version": "3.10.10"
  }
 },
 "nbformat": 4,
 "nbformat_minor": 5
}
