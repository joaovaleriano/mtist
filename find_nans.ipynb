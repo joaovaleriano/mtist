{
 "cells": [
  {
   "cell_type": "code",
   "execution_count": 64,
   "id": "25ac741a-fe70-4d8c-adbe-0ffa6020ec95",
   "metadata": {},
   "outputs": [],
   "source": [
    "import numpy as np\n",
    "import pandas as pd\n",
    "import os\n",
    "import subprocess"
   ]
  },
  {
   "cell_type": "markdown",
   "id": "7b53d272-2880-434a-a529-26361718b519",
   "metadata": {},
   "source": [
    "## Geometric mean"
   ]
  },
  {
   "cell_type": "code",
   "execution_count": 65,
   "id": "8516c55d-3322-4f57-aae3-b828771514f9",
   "metadata": {},
   "outputs": [
    {
     "data": {
      "text/plain": [
       "['inference_result_infer_from_did',\n",
       " 'inference_result_infer_from_did_elasticnet',\n",
       " 'inference_result_infer_from_did_elasticnet_cv',\n",
       " 'inference_result_infer_from_did_lasso',\n",
       " 'inference_result_infer_from_did_lasso_cv',\n",
       " 'inference_result_infer_from_did_ridge',\n",
       " 'inference_result_infer_from_did_ridge_cv']"
      ]
     },
     "execution_count": 65,
     "metadata": {},
     "output_type": "execute_result"
    }
   ],
   "source": [
    "folders = [i for i in os.listdir(\"mtist1.0/mtist_datasets/output_geom/\") if \"ols\" not in i]\n",
    "folders"
   ]
  },
  {
   "cell_type": "code",
   "execution_count": 66,
   "id": "3c09cce1-49a3-47fe-a67d-924cc1cacf09",
   "metadata": {},
   "outputs": [],
   "source": [
    "len([i for i in os.listdir(f\"mtist1.0/mtist_datasets/output_geom/{folders[0]}\") if i[:8]==\"inferred\"])\n",
    "\n",
    "n_sp = []\n",
    "for i in range(len([i for i in os.listdir(f\"mtist1.0/mtist_datasets/output_geom/{folders[0]}\") if i[:8]==\"inferred\"])):\n",
    "    n_sp.append(open(f\"mtist1.0/mtist_datasets/dataset_{i}.csv\", \"r\").readlines()[0].count(\"species_\"))"
   ]
  },
  {
   "cell_type": "code",
   "execution_count": 67,
   "id": "8b589269-fb02-4f9e-85f9-32746f05afe8",
   "metadata": {},
   "outputs": [
    {
     "name": "stdout",
     "output_type": "stream",
     "text": [
      "107/1135 files including NaNs in inference_result_infer_from_did (4142 lines) -> 10_sp -- 2 files; 100_sp -- 105 files;\n",
      "107/1135 files including NaNs in inference_result_infer_from_did_elasticnet (4142 lines) -> 10_sp -- 2 files; 100_sp -- 105 files;\n",
      "208/1135 files including NaNs in inference_result_infer_from_did_elasticnet_cv (5030 lines) -> 3_sp -- 15 files; 10_sp -- 58 files; 100_sp -- 135 files;\n",
      "107/1135 files including NaNs in inference_result_infer_from_did_lasso (4142 lines) -> 10_sp -- 2 files; 100_sp -- 105 files;\n",
      "208/1135 files including NaNs in inference_result_infer_from_did_lasso_cv (5030 lines) -> 3_sp -- 15 files; 10_sp -- 58 files; 100_sp -- 135 files;\n",
      "107/1135 files including NaNs in inference_result_infer_from_did_ridge (4142 lines) -> 10_sp -- 2 files; 100_sp -- 105 files;\n",
      "208/1135 files including NaNs in inference_result_infer_from_did_ridge_cv (5030 lines) -> 3_sp -- 15 files; 10_sp -- 58 files; 100_sp -- 135 files;\n"
     ]
    }
   ],
   "source": [
    "for folder in folders:\n",
    "    out = subprocess.getstatusoutput(f\"grep nan mtist1.0/mtist_datasets/output_geom/{folder}/*\")\n",
    "    if out[0]!=0:\n",
    "        print(f\"!!! Error if folder {folder}\")\n",
    "        break\n",
    "    else:\n",
    "        out = out[1]\n",
    "    \n",
    "    files = [i.split(\"output_geom/\")[1].split(\":\")[0] for i in out.split(\"\\n\")]\n",
    "    n_sp = [open(f\"mtist1.0/mtist_datasets/dataset_{i.split('aij_')[1].split('.')[0]}.csv\", \"r\").readlines()[0].count(\"species_\") for i in np.unique(files)]\n",
    "    print(f\"{len(np.unique(files))}/{len(os.listdir(f'mtist1.0/mtist_datasets/output_geom/{folder}'))} files including NaNs in {folder} ({len(files)} lines) ->\", \" \".join([f\"{i}_sp -- {(n_sp==i).sum()} files;\" for i in np.unique(n_sp)]))"
   ]
  },
  {
   "cell_type": "markdown",
   "id": "5fbf042f-2546-4a89-9610-26fbf9869cde",
   "metadata": {},
   "source": [
    "## Arithmetic mean"
   ]
  },
  {
   "cell_type": "code",
   "execution_count": 68,
   "id": "3e1d60db-8ab8-46eb-b645-c0cbd5c13916",
   "metadata": {},
   "outputs": [
    {
     "data": {
      "text/plain": [
       "['inference_result_infer_from_did_arithm_mean',\n",
       " 'inference_result_infer_from_did_elasticnet_arithm_mean',\n",
       " 'inference_result_infer_from_did_lasso_arithm_mean',\n",
       " 'inference_result_infer_from_did_lasso_cv_arithm_mean',\n",
       " 'inference_result_infer_from_did_ridge_arithm_mean',\n",
       " 'inference_result_infer_from_did_ridge_cv_arithm_mean',\n",
       " 'inference_result_infer_from_did_elasticnet_cv_arithm_mean']"
      ]
     },
     "execution_count": 68,
     "metadata": {},
     "output_type": "execute_result"
    }
   ],
   "source": [
    "folders = [i for i in os.listdir(\"mtist1.0/mtist_datasets/output_arithm/\") if \"ols\" not in i]\n",
    "folders"
   ]
  },
  {
   "cell_type": "code",
   "execution_count": 69,
   "id": "7c686088-129a-4973-a944-09f615b9eab0",
   "metadata": {},
   "outputs": [
    {
     "name": "stdout",
     "output_type": "stream",
     "text": [
      "107/1135 files including NaNs in inference_result_infer_from_did_arithm_mean (4142 lines) -> 10_sp == 2 files; 100_sp == 105 files;\n",
      "107/1135 files including NaNs in inference_result_infer_from_did_elasticnet_arithm_mean (4142 lines) -> 10_sp == 2 files; 100_sp == 105 files;\n",
      "107/1135 files including NaNs in inference_result_infer_from_did_lasso_arithm_mean (4142 lines) -> 10_sp == 2 files; 100_sp == 105 files;\n",
      "208/1135 files including NaNs in inference_result_infer_from_did_lasso_cv_arithm_mean (5030 lines) -> 3_sp == 15 files; 10_sp == 58 files; 100_sp == 135 files;\n",
      "107/1135 files including NaNs in inference_result_infer_from_did_ridge_arithm_mean (4142 lines) -> 10_sp == 2 files; 100_sp == 105 files;\n",
      "208/1135 files including NaNs in inference_result_infer_from_did_ridge_cv_arithm_mean (5030 lines) -> 3_sp == 15 files; 10_sp == 58 files; 100_sp == 135 files;\n",
      "208/1135 files including NaNs in inference_result_infer_from_did_elasticnet_cv_arithm_mean (5030 lines) -> 3_sp == 15 files; 10_sp == 58 files; 100_sp == 135 files;\n"
     ]
    }
   ],
   "source": [
    "for folder in folders:\n",
    "    out = subprocess.getstatusoutput(f\"grep nan mtist1.0/mtist_datasets/output_arithm/{folder}/*\")\n",
    "    if out[0]!=0:\n",
    "        print(f\"!!! Error if folder {folder}\")\n",
    "        break\n",
    "    else:\n",
    "        out = out[1]\n",
    "    \n",
    "    files = [i.split(\"output_arithm/\")[1].split(\":\")[0] for i in out.split(\"\\n\")]\n",
    "    n_sp = [open(f\"mtist1.0/mtist_datasets/dataset_{i.split('aij_')[1].split('.')[0]}.csv\", \"r\").readlines()[0].count(\"species_\") for i in np.unique(files)]\n",
    "    print(f\"{len(np.unique(files))}/{len(os.listdir(f'mtist1.0/mtist_datasets/output_arithm/{folder}'))} files including NaNs in {folder} ({len(files)} lines) ->\", \" \".join([f\"{i}_sp == {(n_sp==i).sum()} files;\" for i in np.unique(n_sp)]))"
   ]
  },
  {
   "cell_type": "markdown",
   "id": "bfad5b67-3616-4bcb-ae85-424e9b4c512e",
   "metadata": {},
   "source": [
    "## No mean"
   ]
  },
  {
   "cell_type": "code",
   "execution_count": 70,
   "id": "e6010f85-a038-4f8a-bb62-5ef597f328a2",
   "metadata": {},
   "outputs": [
    {
     "data": {
      "text/plain": [
       "['inference_result_infer_from_did_elasticnet_no_mean',\n",
       " 'inference_result_infer_from_did_lasso_cv_no_mean',\n",
       " 'inference_result_infer_from_did_lasso_no_mean',\n",
       " 'inference_result_infer_from_did_no_mean',\n",
       " 'inference_result_infer_from_did_ridge_no_mean']"
      ]
     },
     "execution_count": 70,
     "metadata": {},
     "output_type": "execute_result"
    }
   ],
   "source": [
    "folders = [i for i in os.listdir(\"mtist1.0/mtist_datasets/output_nomean/\") if \"ols\" not in i]\n",
    "folders"
   ]
  },
  {
   "cell_type": "code",
   "execution_count": 72,
   "id": "bada7ae4-5400-4f0f-99a8-50f71ffc792a",
   "metadata": {},
   "outputs": [
    {
     "name": "stdout",
     "output_type": "stream",
     "text": [
      "107/1135 files including NaNs in inference_result_infer_from_did_elasticnet_no_mean (4142 lines) -> 10_sp == 2 files; 100_sp == 105 files;\n",
      "208/1135 files including NaNs in inference_result_infer_from_did_lasso_cv_no_mean (5030 lines) -> 3_sp == 15 files; 10_sp == 58 files; 100_sp == 135 files;\n",
      "107/1135 files including NaNs in inference_result_infer_from_did_lasso_no_mean (4142 lines) -> 10_sp == 2 files; 100_sp == 105 files;\n",
      "107/1135 files including NaNs in inference_result_infer_from_did_no_mean (4142 lines) -> 10_sp == 2 files; 100_sp == 105 files;\n",
      "107/1135 files including NaNs in inference_result_infer_from_did_ridge_no_mean (4142 lines) -> 10_sp == 2 files; 100_sp == 105 files;\n"
     ]
    }
   ],
   "source": [
    "for folder in folders:\n",
    "    out = subprocess.getstatusoutput(f\"grep nan mtist1.0/mtist_datasets/output_nomean/{folder}/*\")\n",
    "    if out[0]!=0:\n",
    "        print(f\"!!! Error if folder {folder}\")\n",
    "        break\n",
    "    else:\n",
    "        out = out[1]\n",
    "    \n",
    "    files = [i.split(\"output_nomean/\")[1].split(\":\")[0] for i in out.split(\"\\n\")]\n",
    "    n_sp = [open(f\"mtist1.0/mtist_datasets/dataset_{i.split('aij_')[1].split('.')[0]}.csv\", \"r\").readlines()[0].count(\"species_\") for i in np.unique(files)]\n",
    "    print(f\"{len(np.unique(files))}/{len(os.listdir(f'mtist1.0/mtist_datasets/output_nomean/{folder}'))} files including NaNs in {folder} ({len(files)} lines) ->\", \" \".join([f\"{i}_sp == {(n_sp==i).sum()} files;\" for i in np.unique(n_sp)]))"
   ]
  }
 ],
 "metadata": {
  "kernelspec": {
   "display_name": "Python 3 (ipykernel)",
   "language": "python",
   "name": "python3"
  },
  "language_info": {
   "codemirror_mode": {
    "name": "ipython",
    "version": 3
   },
   "file_extension": ".py",
   "mimetype": "text/x-python",
   "name": "python",
   "nbconvert_exporter": "python",
   "pygments_lexer": "ipython3",
   "version": "3.10.8"
  }
 },
 "nbformat": 4,
 "nbformat_minor": 5
}
